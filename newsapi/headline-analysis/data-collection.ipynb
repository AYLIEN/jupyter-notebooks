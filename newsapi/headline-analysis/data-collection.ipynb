{
 "cells": [
  {
   "cell_type": "code",
   "execution_count": 1,
   "metadata": {
    "collapsed": false
   },
   "outputs": [],
   "source": [
    "import sys\n",
    "import json\n",
    "\n",
    "try:\n",
    "  from urllib.parse import urlencode\n",
    "  from urllib.request import Request, urlopen\n",
    "except ImportError:\n",
    "  from urllib import urlencode\n",
    "  from urllib2 import Request, urlopen\n",
    "\n",
    "APP_ID  = 'YOUR_APP_ID'\n",
    "APP_KEY = 'YOUR_APP_KEY'\n",
    "\n",
    "def call(endpoint, params):\n",
    "  protocol_host_path = 'https://api.newsapi.aylien.com/api/v1'\n",
    "  headers = {\n",
    "      'X-AYLIEN-NewsAPI-Application-ID': APP_ID,\n",
    "      'X-AYLIEN-NewsAPI-Application-Key': APP_KEY}\n",
    "  query_string = urlencode([(k, v) for k, vs in params.items() for v in isinstance(vs, list) and vs or [vs]])\n",
    "  url = protocol_host_path + \"/\" + endpoint + \"?\" + query_string\n",
    "  request = Request(url)\n",
    "  for k, v in headers.items():\n",
    "    request.add_header(k, v)\n",
    "  response = urlopen(request)\n",
    "  return json.loads(response.read().decode('utf-8'))\n",
    "\n",
    "def getStoriesForAuthor(author, count=50, pages=1, prevResults=[], cursor=\"*\"):\n",
    "    if pages >= 1:\n",
    "        pages = pages - 1\n",
    "        parameters = {\n",
    "            'author.name': author,\n",
    "            'per_page': count,\n",
    "            'return[]': \"title\",\n",
    "            'language': \"en\",\n",
    "            'cursor': cursor\n",
    "        }\n",
    "        results = call('stories', parameters)\n",
    "        return getStoriesForAuthor(author, count, pages, prevResults + results[\"stories\"], results[\"next_page_cursor\"])\n",
    "    else:\n",
    "        return prevResults"
   ]
  },
  {
   "cell_type": "code",
   "execution_count": 2,
   "metadata": {
    "collapsed": false
   },
   "outputs": [],
   "source": [
    "author1 = getStoriesForAuthor(\"Akin Oyedele\", count=100, pages=7)"
   ]
  },
  {
   "cell_type": "code",
   "execution_count": 3,
   "metadata": {
    "collapsed": false
   },
   "outputs": [],
   "source": [
    "author2 = getStoriesForAuthor(\"Carly Ledbetter\", count=100, pages=7)"
   ]
  },
  {
   "cell_type": "code",
   "execution_count": 4,
   "metadata": {
    "collapsed": false
   },
   "outputs": [],
   "source": [
    "import cPickle as pickle\n",
    "pickle.dump( author1, open( \"author1.p\", \"wb\" ) )\n",
    "pickle.dump( author2, open( \"author2.p\", \"wb\" ) )"
   ]
  }
 ],
 "metadata": {
  "kernelspec": {
   "display_name": "Python 2",
   "language": "python",
   "name": "python2"
  },
  "language_info": {
   "codemirror_mode": {
    "name": "ipython",
    "version": 2
   },
   "file_extension": ".py",
   "mimetype": "text/x-python",
   "name": "python",
   "nbconvert_exporter": "python",
   "pygments_lexer": "ipython2",
   "version": "2.7.10"
  }
 },
 "nbformat": 4,
 "nbformat_minor": 0
}
